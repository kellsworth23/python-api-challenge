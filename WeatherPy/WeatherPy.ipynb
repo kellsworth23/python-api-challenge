{
 "cells": [
  {
   "cell_type": "markdown",
   "metadata": {},
   "source": [
    "# WeatherPy\n",
    "----\n",
    "\n",
    "#### Note\n",
    "* Instructions have been included for each segment. You do not have to follow them exactly, but they are included to help you think through the steps."
   ]
  },
  {
   "cell_type": "code",
   "execution_count": null,
   "metadata": {},
   "outputs": [],
   "source": [
    "'''\n",
    "Observations:\n",
    "    . There is an inverse correlation in the Northern hemisphere between the Latitude and the Max Temperature, the further\n",
    "        from the equator, the colder it gets, which it was expected.\n",
    "    . In the same way, there is a positive correlation in the Southern hemisphere between the Latitude and the Max Temperature,\n",
    "        the closer to the Equator, the warmer it gets, which it was also expected.\n",
    "    . There seems to be no correlation in general, between the Latitude, and the other measurements: Wind Speed, Cloudiness,\n",
    "        and Humidity\n",
    "'''"
   ]
  },
  {
   "cell_type": "code",
   "execution_count": 95,
   "metadata": {
    "scrolled": true
   },
   "outputs": [],
   "source": [
    "# Dependencies and Setup\n",
    "import matplotlib.pyplot as plt\n",
    "import pandas as pd\n",
    "import numpy as np\n",
    "import requests\n",
    "import time\n",
    "from scipy.stats import linregress\n",
    "\n",
    "# Import API key\n",
    "from api_keys import weather_api_key\n",
    "\n",
    "# Incorporated citipy to determine city based on latitude and longitude\n",
    "from citipy import citipy\n",
    "\n",
    "# Url for open weather api units in imperial to show temperature in Farenheit\n",
    "url = \"http://api.openweathermap.org/data/2.5/weather?\"\n",
    "units = \"imperial\"\n",
    "\n",
    "# Build partial query URL\n",
    "query_url = f\"{url}appid={weather_api_key}&units={units}&q=\"\n",
    "\n",
    "# Output File (CSV)\n",
    "output_data_file = \"output_data/cities.csv\"\n",
    "\n",
    "# Range of latitudes and longitudes\n",
    "lat_range = (-90, 90)\n",
    "lng_range = (-180, 180)"
   ]
  },
  {
   "cell_type": "markdown",
   "metadata": {},
   "source": [
    "## Generate Cities List"
   ]
  },
  {
   "cell_type": "code",
   "execution_count": 128,
   "metadata": {},
   "outputs": [
    {
     "data": {
      "text/plain": [
       "587"
      ]
     },
     "execution_count": 128,
     "metadata": {},
     "output_type": "execute_result"
    }
   ],
   "source": [
    "# List for holding lat_lngs and cities\n",
    "lat_lngs = []\n",
    "cities = []\n",
    "\n",
    "# Create a set of random lat and lng combinations\n",
    "lats = np.random.uniform(lat_range[0], lat_range[1], size=1500)\n",
    "lngs = np.random.uniform(lng_range[0], lng_range[1], size=1500)\n",
    "lat_lngs = zip(lats, lngs)\n",
    "\n",
    "# Identify nearest city for each lat, lng combination\n",
    "for lat_lng in lat_lngs:\n",
    "    city = citipy.nearest_city(lat_lng[0], lat_lng[1]).city_name\n",
    "    \n",
    "    # If the city is unique, then add it to a our cities list\n",
    "    if city not in cities:\n",
    "        cities.append(city)\n",
    "\n",
    "# Print the city count to confirm sufficient count\n",
    "len(cities)"
   ]
  },
  {
   "cell_type": "markdown",
   "metadata": {},
   "source": [
    "### Perform API Calls\n",
    "* Perform a weather check on each city using a series of successive API calls.\n",
    "* Include a print log of each city as it'sbeing processed (with the city number and city name).\n"
   ]
  },
  {
   "cell_type": "code",
   "execution_count": 129,
   "metadata": {
    "scrolled": true
   },
   "outputs": [
    {
     "name": "stdout",
     "output_type": "stream",
     "text": [
      "Beggining Data Retrieval\n",
      "-----------------------------\n",
      "Processing Record 1 of Set 1 | amderma\n",
      "City not found. Skipping... \n",
      "Processing Record 2 of Set 1 | new norfolk\n",
      "Processing Record 3 of Set 1 | sao filipe\n",
      "Processing Record 4 of Set 1 | hobart\n",
      "Processing Record 5 of Set 1 | turukhansk\n",
      "Processing Record 6 of Set 1 | mataura\n",
      "Processing Record 7 of Set 1 | cape town\n",
      "Processing Record 8 of Set 1 | rio grande\n",
      "Processing Record 9 of Set 1 | punta arenas\n",
      "Processing Record 10 of Set 1 | busselton\n",
      "Processing Record 11 of Set 1 | cumberland\n",
      "Processing Record 12 of Set 1 | ilinskiy\n",
      "Processing Record 13 of Set 1 | rikitea\n",
      "Processing Record 14 of Set 1 | nanakuli\n",
      "Processing Record 15 of Set 1 | pangnirtung\n",
      "Processing Record 16 of Set 1 | ketchikan\n",
      "Processing Record 17 of Set 1 | sembakung\n",
      "Processing Record 18 of Set 1 | avarua\n",
      "Processing Record 19 of Set 1 | barrow\n",
      "Processing Record 20 of Set 1 | zlatoustovsk\n",
      "City not found. Skipping... \n",
      "Processing Record 21 of Set 1 | husavik\n",
      "Processing Record 22 of Set 1 | saint-philippe\n",
      "Processing Record 23 of Set 1 | attawapiskat\n",
      "City not found. Skipping... \n",
      "Processing Record 24 of Set 1 | noumea\n",
      "Processing Record 25 of Set 1 | chipiona\n",
      "Processing Record 26 of Set 1 | turayf\n",
      "Processing Record 27 of Set 1 | bonthe\n",
      "Processing Record 28 of Set 1 | pacific grove\n",
      "Processing Record 29 of Set 1 | tuktoyaktuk\n",
      "Processing Record 30 of Set 1 | sulangan\n",
      "Processing Record 31 of Set 1 | amapa\n",
      "Processing Record 32 of Set 1 | severo-kurilsk\n",
      "Processing Record 33 of Set 1 | timra\n",
      "Processing Record 34 of Set 1 | nanortalik\n",
      "Processing Record 35 of Set 1 | poum\n",
      "Processing Record 36 of Set 1 | lebu\n",
      "Processing Record 37 of Set 1 | tezu\n",
      "Processing Record 38 of Set 1 | chadiza\n",
      "Processing Record 39 of Set 1 | bethel\n",
      "Processing Record 40 of Set 1 | atuona\n",
      "Processing Record 41 of Set 1 | saleaula\n",
      "City not found. Skipping... \n",
      "Processing Record 42 of Set 1 | castelo branco\n",
      "Processing Record 43 of Set 1 | bluff\n",
      "Processing Record 44 of Set 1 | taolanaro\n",
      "City not found. Skipping... \n",
      "Processing Record 45 of Set 1 | lagoa\n",
      "Processing Record 46 of Set 1 | artyom\n",
      "Processing Record 47 of Set 1 | lardos\n",
      "Processing Record 48 of Set 1 | lac du bonnet\n",
      "Processing Record 49 of Set 1 | jamestown\n",
      "Processing Record 1 of Set 2 | arsk\n",
      "Processing Record 2 of Set 2 | east london\n",
      "Processing Record 3 of Set 2 | abeche\n",
      "Processing Record 4 of Set 2 | dikson\n",
      "Processing Record 5 of Set 2 | margate\n",
      "Processing Record 6 of Set 2 | guerrero negro\n",
      "Processing Record 7 of Set 2 | albany\n",
      "Processing Record 8 of Set 2 | alofi\n",
      "Processing Record 9 of Set 2 | khatanga\n",
      "Processing Record 10 of Set 2 | aden\n",
      "Processing Record 11 of Set 2 | puerto ayora\n",
      "Processing Record 12 of Set 2 | faya\n",
      "Processing Record 13 of Set 2 | ancud\n",
      "Processing Record 14 of Set 2 | yellowknife\n",
      "Processing Record 15 of Set 2 | shakhovskaya\n",
      "Processing Record 16 of Set 2 | ushuaia\n",
      "Processing Record 17 of Set 2 | hilo\n",
      "Processing Record 18 of Set 2 | georgetown\n",
      "Processing Record 19 of Set 2 | makakilo city\n",
      "Processing Record 20 of Set 2 | carnarvon\n",
      "Processing Record 21 of Set 2 | tromso\n",
      "Processing Record 22 of Set 2 | bambous virieux\n",
      "Processing Record 23 of Set 2 | kapaa\n",
      "Processing Record 24 of Set 2 | yantal\n",
      "Processing Record 25 of Set 2 | khasan\n",
      "Processing Record 26 of Set 2 | lompoc\n",
      "Processing Record 27 of Set 2 | litovko\n",
      "Processing Record 28 of Set 2 | kidal\n",
      "Processing Record 29 of Set 2 | chokurdakh\n",
      "Processing Record 30 of Set 2 | port alfred\n",
      "Processing Record 31 of Set 2 | butaritari\n",
      "Processing Record 32 of Set 2 | vaini\n",
      "Processing Record 33 of Set 2 | hithadhoo\n",
      "Processing Record 34 of Set 2 | eunice\n",
      "Processing Record 35 of Set 2 | bengkulu\n",
      "Processing Record 36 of Set 2 | rockport\n",
      "Processing Record 37 of Set 2 | tiksi\n",
      "Processing Record 38 of Set 2 | buqayq\n",
      "City not found. Skipping... \n",
      "Processing Record 39 of Set 2 | sinnamary\n",
      "Processing Record 40 of Set 2 | tighina\n",
      "Processing Record 41 of Set 2 | san cristobal\n",
      "Processing Record 42 of Set 2 | novoagansk\n",
      "Processing Record 43 of Set 2 | touros\n",
      "Processing Record 44 of Set 2 | azimur\n",
      "City not found. Skipping... \n",
      "Processing Record 45 of Set 2 | mys shmidta\n",
      "City not found. Skipping... \n",
      "Processing Record 46 of Set 2 | castro\n",
      "Processing Record 47 of Set 2 | lavrentiya\n",
      "Processing Record 48 of Set 2 | rincon\n",
      "Processing Record 49 of Set 2 | hermanus\n",
      "Processing Record 1 of Set 3 | la ferte-bernard\n",
      "Processing Record 2 of Set 3 | qaanaaq\n",
      "Processing Record 3 of Set 3 | mahebourg\n",
      "Processing Record 4 of Set 3 | nome\n",
      "Processing Record 5 of Set 3 | sobolevo\n",
      "Processing Record 6 of Set 3 | dunedin\n",
      "Processing Record 7 of Set 3 | sentyabrskiy\n",
      "City not found. Skipping... \n",
      "Processing Record 8 of Set 3 | khash\n",
      "Processing Record 9 of Set 3 | bilibino\n",
      "Processing Record 10 of Set 3 | tsihombe\n",
      "City not found. Skipping... \n",
      "Processing Record 11 of Set 3 | kodiak\n",
      "Processing Record 12 of Set 3 | zabol\n",
      "Processing Record 13 of Set 3 | paraiso\n",
      "Processing Record 14 of Set 3 | mnogovershinnyy\n",
      "Processing Record 15 of Set 3 | padang\n",
      "Processing Record 16 of Set 3 | kazalinsk\n",
      "City not found. Skipping... \n",
      "Processing Record 17 of Set 3 | tocopilla\n",
      "Processing Record 18 of Set 3 | arraial do cabo\n",
      "Processing Record 19 of Set 3 | port elizabeth\n",
      "Processing Record 20 of Set 3 | esperance\n",
      "Processing Record 21 of Set 3 | ribeira grande\n",
      "Processing Record 22 of Set 3 | hambantota\n",
      "Processing Record 23 of Set 3 | saldanha\n",
      "Processing Record 24 of Set 3 | cidreira\n",
      "Processing Record 25 of Set 3 | zhuhai\n",
      "Processing Record 26 of Set 3 | ginir\n",
      "Processing Record 27 of Set 3 | byron bay\n",
      "Processing Record 28 of Set 3 | tlahualilo\n",
      "City not found. Skipping... \n",
      "Processing Record 29 of Set 3 | govindgarh\n",
      "Processing Record 30 of Set 3 | torbay\n",
      "Processing Record 31 of Set 3 | kaitangata\n",
      "Processing Record 32 of Set 3 | tuatapere\n",
      "Processing Record 33 of Set 3 | orotukan\n",
      "Processing Record 34 of Set 3 | mezen\n",
      "Processing Record 35 of Set 3 | hastings\n",
      "Processing Record 36 of Set 3 | totness\n",
      "Processing Record 37 of Set 3 | yaan\n",
      "Processing Record 38 of Set 3 | lianzhou\n",
      "Processing Record 39 of Set 3 | vaitupu\n",
      "City not found. Skipping... \n",
      "Processing Record 40 of Set 3 | half moon bay\n",
      "Processing Record 41 of Set 3 | avera\n",
      "Processing Record 42 of Set 3 | puerto escondido\n",
      "Processing Record 43 of Set 3 | nouadhibou\n",
      "Processing Record 44 of Set 3 | provideniya\n",
      "Processing Record 45 of Set 3 | tasiilaq\n",
      "Processing Record 46 of Set 3 | nyurba\n",
      "Processing Record 47 of Set 3 | barentsburg\n",
      "City not found. Skipping... \n",
      "Processing Record 48 of Set 3 | bathsheba\n",
      "Processing Record 49 of Set 3 | havre-saint-pierre\n",
      "Processing Record 1 of Set 4 | lamlash\n",
      "Processing Record 2 of Set 4 | chuy\n",
      "Processing Record 3 of Set 4 | meulaboh\n",
      "Processing Record 4 of Set 4 | naze\n",
      "Processing Record 5 of Set 4 | tabuk\n",
      "Processing Record 6 of Set 4 | hamilton\n",
      "Processing Record 7 of Set 4 | cherskiy\n",
      "Processing Record 8 of Set 4 | dubenskiy\n",
      "City not found. Skipping... \n",
      "Processing Record 9 of Set 4 | cockburn town\n",
      "Processing Record 10 of Set 4 | berlevag\n",
      "Processing Record 11 of Set 4 | chake chake\n",
      "Processing Record 12 of Set 4 | arles\n",
      "Processing Record 13 of Set 4 | calumboyan\n",
      "Processing Record 14 of Set 4 | hualmay\n",
      "Processing Record 15 of Set 4 | fukue\n",
      "Processing Record 16 of Set 4 | lodja\n",
      "Processing Record 17 of Set 4 | nemuro\n",
      "Processing Record 18 of Set 4 | san carlos de bariloche\n",
      "Processing Record 19 of Set 4 | mayumba\n",
      "Processing Record 20 of Set 4 | emerald\n",
      "Processing Record 21 of Set 4 | halalo\n",
      "City not found. Skipping... \n",
      "Processing Record 22 of Set 4 | akita\n",
      "Processing Record 23 of Set 4 | souillac\n",
      "Processing Record 24 of Set 4 | edea\n",
      "Processing Record 25 of Set 4 | axim\n",
      "Processing Record 26 of Set 4 | nikolskoye\n",
      "Processing Record 27 of Set 4 | kavaratti\n",
      "Processing Record 28 of Set 4 | samusu\n",
      "City not found. Skipping... \n",
      "Processing Record 29 of Set 4 | berbera\n",
      "Processing Record 30 of Set 4 | somova\n",
      "Processing Record 31 of Set 4 | coquimbo\n",
      "Processing Record 32 of Set 4 | baykit\n",
      "Processing Record 33 of Set 4 | oranjestad\n",
      "Processing Record 34 of Set 4 | grand river south east\n",
      "City not found. Skipping... \n",
      "Processing Record 35 of Set 4 | meiktila\n",
      "Processing Record 36 of Set 4 | tumannyy\n",
      "City not found. Skipping... \n",
      "Processing Record 37 of Set 4 | chapais\n",
      "Processing Record 38 of Set 4 | kruisfontein\n"
     ]
    },
    {
     "name": "stdout",
     "output_type": "stream",
     "text": [
      "Processing Record 39 of Set 4 | suez\n",
      "Processing Record 40 of Set 4 | illoqqortoormiut\n",
      "City not found. Skipping... \n",
      "Processing Record 41 of Set 4 | lesozavodsk\n",
      "Processing Record 42 of Set 4 | marzuq\n",
      "Processing Record 43 of Set 4 | ponta do sol\n",
      "Processing Record 44 of Set 4 | pisco\n",
      "Processing Record 45 of Set 4 | vestmannaeyjar\n",
      "Processing Record 46 of Set 4 | kemerovo\n",
      "Processing Record 47 of Set 4 | shingu\n",
      "Processing Record 48 of Set 4 | komsomolskiy\n",
      "Processing Record 49 of Set 4 | isangel\n",
      "Processing Record 1 of Set 5 | mahajanga\n",
      "Processing Record 2 of Set 5 | henties bay\n",
      "Processing Record 3 of Set 5 | nioro\n",
      "Processing Record 4 of Set 5 | luderitz\n",
      "Processing Record 5 of Set 5 | tessalit\n",
      "Processing Record 6 of Set 5 | wausau\n",
      "Processing Record 7 of Set 5 | lorengau\n",
      "Processing Record 8 of Set 5 | nageshwari\n",
      "Processing Record 9 of Set 5 | ballina\n",
      "Processing Record 10 of Set 5 | bandar-e lengeh\n",
      "Processing Record 11 of Set 5 | dukat\n",
      "Processing Record 12 of Set 5 | bavly\n",
      "Processing Record 13 of Set 5 | bonavista\n",
      "Processing Record 14 of Set 5 | dakar\n",
      "Processing Record 15 of Set 5 | kahului\n",
      "Processing Record 16 of Set 5 | mae sai\n",
      "Processing Record 17 of Set 5 | bredasdorp\n",
      "Processing Record 18 of Set 5 | titlagarh\n",
      "Processing Record 19 of Set 5 | los llanos de aridane\n",
      "Processing Record 20 of Set 5 | sabanalarga\n",
      "Processing Record 21 of Set 5 | leningradskiy\n",
      "Processing Record 22 of Set 5 | yar-sale\n",
      "Processing Record 23 of Set 5 | airai\n",
      "Processing Record 24 of Set 5 | ostrovnoy\n",
      "Processing Record 25 of Set 5 | aklavik\n",
      "Processing Record 26 of Set 5 | belushya guba\n",
      "City not found. Skipping... \n",
      "Processing Record 27 of Set 5 | beidao\n",
      "Processing Record 28 of Set 5 | fort saint john\n",
      "City not found. Skipping... \n",
      "Processing Record 29 of Set 5 | chiredzi\n",
      "Processing Record 30 of Set 5 | hendersonville\n",
      "Processing Record 31 of Set 5 | narsaq\n",
      "Processing Record 32 of Set 5 | gayny\n",
      "Processing Record 33 of Set 5 | yabrud\n",
      "Processing Record 34 of Set 5 | nara\n",
      "Processing Record 35 of Set 5 | viligili\n",
      "City not found. Skipping... \n",
      "Processing Record 36 of Set 5 | ibra\n",
      "Processing Record 37 of Set 5 | pevek\n",
      "Processing Record 38 of Set 5 | rabo de peixe\n",
      "Processing Record 39 of Set 5 | mount gambier\n",
      "Processing Record 40 of Set 5 | khatima\n",
      "Processing Record 41 of Set 5 | inhambane\n",
      "Processing Record 42 of Set 5 | zirandaro\n",
      "Processing Record 43 of Set 5 | vincennes\n",
      "Processing Record 44 of Set 5 | xadani\n",
      "City not found. Skipping... \n",
      "Processing Record 45 of Set 5 | itoman\n",
      "Processing Record 46 of Set 5 | flinders\n",
      "Processing Record 47 of Set 5 | faanui\n",
      "Processing Record 48 of Set 5 | la rioja\n",
      "Processing Record 49 of Set 5 | kiruna\n",
      "Processing Record 1 of Set 6 | manjacaze\n",
      "Processing Record 2 of Set 6 | ornskoldsvik\n",
      "Processing Record 3 of Set 6 | karamea\n",
      "City not found. Skipping... \n",
      "Processing Record 4 of Set 6 | seoul\n",
      "Processing Record 5 of Set 6 | arman\n",
      "Processing Record 6 of Set 6 | conceicao do araguaia\n",
      "Processing Record 7 of Set 6 | viedma\n",
      "Processing Record 8 of Set 6 | etchoropo\n",
      "Processing Record 9 of Set 6 | kalmunai\n",
      "Processing Record 10 of Set 6 | havre\n",
      "Processing Record 11 of Set 6 | mar del plata\n",
      "Processing Record 12 of Set 6 | arsenyev\n",
      "Processing Record 13 of Set 6 | clyde river\n",
      "Processing Record 14 of Set 6 | neyshabur\n",
      "Processing Record 15 of Set 6 | synya\n",
      "Processing Record 16 of Set 6 | umm lajj\n",
      "Processing Record 17 of Set 6 | te anau\n",
      "Processing Record 18 of Set 6 | guisa\n",
      "Processing Record 19 of Set 6 | kulhudhuffushi\n",
      "Processing Record 20 of Set 6 | neuquen\n",
      "Processing Record 21 of Set 6 | tahoua\n",
      "Processing Record 22 of Set 6 | atar\n",
      "Processing Record 23 of Set 6 | praia\n",
      "Processing Record 24 of Set 6 | iqaluit\n",
      "Processing Record 25 of Set 6 | leeton\n",
      "Processing Record 26 of Set 6 | tabou\n",
      "Processing Record 27 of Set 6 | dalian\n",
      "Processing Record 28 of Set 6 | lolua\n",
      "City not found. Skipping... \n",
      "Processing Record 29 of Set 6 | praia da vitoria\n",
      "Processing Record 30 of Set 6 | lexington\n",
      "Processing Record 31 of Set 6 | sumbawa\n",
      "City not found. Skipping... \n",
      "Processing Record 32 of Set 6 | diego de almagro\n",
      "Processing Record 33 of Set 6 | kargasok\n",
      "Processing Record 34 of Set 6 | jacareacanga\n",
      "Processing Record 35 of Set 6 | cervo\n",
      "Processing Record 36 of Set 6 | bocana de paiwas\n",
      "Processing Record 37 of Set 6 | saint-augustin\n",
      "Processing Record 38 of Set 6 | nakama\n",
      "Processing Record 39 of Set 6 | torit\n",
      "Processing Record 40 of Set 6 | cayenne\n",
      "Processing Record 41 of Set 6 | poronaysk\n",
      "Processing Record 42 of Set 6 | port lincoln\n",
      "Processing Record 43 of Set 6 | nacogdoches\n",
      "Processing Record 44 of Set 6 | udachnyy\n",
      "Processing Record 45 of Set 6 | uray\n",
      "Processing Record 46 of Set 6 | inirida\n",
      "Processing Record 47 of Set 6 | amahai\n",
      "Processing Record 48 of Set 6 | celestun\n",
      "Processing Record 49 of Set 6 | huanren\n",
      "Processing Record 1 of Set 7 | thompson\n",
      "Processing Record 2 of Set 7 | saint george\n",
      "Processing Record 3 of Set 7 | vanavara\n",
      "Processing Record 4 of Set 7 | aykhal\n",
      "Processing Record 5 of Set 7 | camacha\n",
      "Processing Record 6 of Set 7 | jiquilisco\n",
      "Processing Record 7 of Set 7 | tahe\n",
      "Processing Record 8 of Set 7 | sawakin\n",
      "Processing Record 9 of Set 7 | bahia honda\n",
      "Processing Record 10 of Set 7 | unity\n",
      "Processing Record 11 of Set 7 | lasa\n",
      "Processing Record 12 of Set 7 | brownsville\n",
      "Processing Record 13 of Set 7 | dzhebariki-khaya\n",
      "Processing Record 14 of Set 7 | darhan\n",
      "Processing Record 15 of Set 7 | vila franca do campo\n",
      "Processing Record 16 of Set 7 | bandarbeyla\n",
      "Processing Record 17 of Set 7 | karratha\n",
      "Processing Record 18 of Set 7 | vardo\n",
      "Processing Record 19 of Set 7 | benjamin constant\n",
      "Processing Record 20 of Set 7 | dzhalil\n",
      "Processing Record 21 of Set 7 | sikonge\n",
      "Processing Record 22 of Set 7 | krasnoselkup\n",
      "Processing Record 23 of Set 7 | ust-nera\n",
      "Processing Record 24 of Set 7 | mwene-ditu\n",
      "Processing Record 25 of Set 7 | upernavik\n",
      "Processing Record 26 of Set 7 | hasaki\n",
      "Processing Record 27 of Set 7 | broken hill\n",
      "Processing Record 28 of Set 7 | ahipara\n",
      "Processing Record 29 of Set 7 | dzaoudzi\n",
      "Processing Record 30 of Set 7 | saskylakh\n",
      "Processing Record 31 of Set 7 | oromocto\n",
      "Processing Record 32 of Set 7 | belaya gora\n",
      "Processing Record 33 of Set 7 | bakel\n",
      "Processing Record 34 of Set 7 | fortuna\n",
      "Processing Record 35 of Set 7 | santander\n",
      "Processing Record 36 of Set 7 | kovur\n",
      "Processing Record 37 of Set 7 | granadilla de abona\n",
      "Processing Record 38 of Set 7 | port macquarie\n",
      "Processing Record 39 of Set 7 | great yarmouth\n",
      "Processing Record 40 of Set 7 | acapulco\n",
      "Processing Record 41 of Set 7 | manzhouli\n",
      "Processing Record 42 of Set 7 | sept-iles\n",
      "Processing Record 43 of Set 7 | fujin\n",
      "Processing Record 44 of Set 7 | huarmey\n",
      "Processing Record 45 of Set 7 | tamandare\n",
      "Processing Record 46 of Set 7 | qaqortoq\n",
      "Processing Record 47 of Set 7 | wakefield\n",
      "Processing Record 48 of Set 7 | raga\n",
      "Processing Record 49 of Set 7 | batagay\n",
      "Processing Record 1 of Set 8 | sao felix do xingu\n",
      "Processing Record 2 of Set 8 | santa isabel do rio negro\n",
      "Processing Record 3 of Set 8 | arlit\n",
      "Processing Record 4 of Set 8 | khandyga\n",
      "Processing Record 5 of Set 8 | bharatpur\n",
      "Processing Record 6 of Set 8 | bedford\n",
      "Processing Record 7 of Set 8 | umm kaddadah\n",
      "Processing Record 8 of Set 8 | norman wells\n",
      "Processing Record 9 of Set 8 | saint-pierre\n",
      "Processing Record 10 of Set 8 | comodoro rivadavia\n",
      "Processing Record 11 of Set 8 | itarema\n",
      "Processing Record 12 of Set 8 | tanda\n",
      "Processing Record 13 of Set 8 | makinsk\n",
      "Processing Record 14 of Set 8 | sinop\n",
      "Processing Record 15 of Set 8 | chagda\n",
      "City not found. Skipping... \n",
      "Processing Record 16 of Set 8 | takoradi\n",
      "Processing Record 17 of Set 8 | issia\n",
      "Processing Record 18 of Set 8 | victor harbor\n",
      "Processing Record 19 of Set 8 | kieta\n",
      "Processing Record 20 of Set 8 | fort nelson\n",
      "Processing Record 21 of Set 8 | luanda\n",
      "Processing Record 22 of Set 8 | rudbar\n",
      "Processing Record 23 of Set 8 | balaipungut\n",
      "Processing Record 24 of Set 8 | kota bahru\n",
      "Processing Record 25 of Set 8 | cuevas\n",
      "Processing Record 26 of Set 8 | teahupoo\n",
      "Processing Record 27 of Set 8 | tautira\n",
      "Processing Record 28 of Set 8 | roald\n",
      "Processing Record 29 of Set 8 | katsuura\n",
      "Processing Record 30 of Set 8 | petropavlovsk-kamchatskiy\n",
      "Processing Record 31 of Set 8 | burgersdorp\n",
      "Processing Record 32 of Set 8 | marathopolis\n",
      "City not found. Skipping... \n"
     ]
    },
    {
     "name": "stdout",
     "output_type": "stream",
     "text": [
      "Processing Record 33 of Set 8 | san jose\n",
      "Processing Record 34 of Set 8 | rudnaya pristan\n",
      "Processing Record 35 of Set 8 | ilulissat\n",
      "Processing Record 36 of Set 8 | la ronge\n",
      "Processing Record 37 of Set 8 | ladario\n",
      "Processing Record 38 of Set 8 | gardan diwal\n",
      "City not found. Skipping... \n",
      "Processing Record 39 of Set 8 | mareeba\n",
      "Processing Record 40 of Set 8 | garissa\n",
      "Processing Record 41 of Set 8 | zachagansk\n",
      "City not found. Skipping... \n",
      "Processing Record 42 of Set 8 | nurota\n",
      "Processing Record 43 of Set 8 | quatre cocos\n",
      "Processing Record 44 of Set 8 | kungurtug\n",
      "Processing Record 45 of Set 8 | north bend\n",
      "Processing Record 46 of Set 8 | ayagoz\n",
      "Processing Record 47 of Set 8 | juneau\n",
      "Processing Record 48 of Set 8 | nuuk\n",
      "Processing Record 49 of Set 8 | marawi\n",
      "Processing Record 1 of Set 9 | aksu\n",
      "Processing Record 2 of Set 9 | huilong\n",
      "Processing Record 3 of Set 9 | oksfjord\n",
      "Processing Record 4 of Set 9 | iberia\n",
      "Processing Record 5 of Set 9 | pocone\n",
      "Processing Record 6 of Set 9 | mogadishu\n",
      "Processing Record 7 of Set 9 | kapuskasing\n",
      "Processing Record 8 of Set 9 | bargal\n",
      "City not found. Skipping... \n",
      "Processing Record 9 of Set 9 | lusambo\n",
      "Processing Record 10 of Set 9 | tucuman\n",
      "Processing Record 11 of Set 9 | caravelas\n",
      "Processing Record 12 of Set 9 | ruteng\n",
      "Processing Record 13 of Set 9 | florence\n",
      "Processing Record 14 of Set 9 | mendoza\n",
      "Processing Record 15 of Set 9 | marcona\n",
      "City not found. Skipping... \n",
      "Processing Record 16 of Set 9 | barranca\n",
      "Processing Record 17 of Set 9 | kafanchan\n",
      "Processing Record 18 of Set 9 | gazanjyk\n",
      "Processing Record 19 of Set 9 | klaksvik\n",
      "Processing Record 20 of Set 9 | itaituba\n",
      "Processing Record 21 of Set 9 | san patricio\n",
      "Processing Record 22 of Set 9 | beyneu\n",
      "Processing Record 23 of Set 9 | rawson\n",
      "Processing Record 24 of Set 9 | papara\n",
      "Processing Record 25 of Set 9 | rundu\n",
      "Processing Record 26 of Set 9 | hunza\n",
      "City not found. Skipping... \n",
      "Processing Record 27 of Set 9 | zhigansk\n",
      "Processing Record 28 of Set 9 | nanning\n",
      "Processing Record 29 of Set 9 | marsabit\n",
      "Processing Record 30 of Set 9 | armizonskoye\n",
      "Processing Record 31 of Set 9 | ouesso\n",
      "Processing Record 32 of Set 9 | geraldton\n",
      "Processing Record 33 of Set 9 | ghanzi\n",
      "Processing Record 34 of Set 9 | jasper\n",
      "Processing Record 35 of Set 9 | codrington\n",
      "Processing Record 36 of Set 9 | acajutla\n",
      "Processing Record 37 of Set 9 | chiang klang\n",
      "Processing Record 38 of Set 9 | bolungarvik\n",
      "City not found. Skipping... \n",
      "Processing Record 39 of Set 9 | naples\n",
      "Processing Record 40 of Set 9 | talnakh\n",
      "Processing Record 41 of Set 9 | laguna\n",
      "Processing Record 42 of Set 9 | palestine\n",
      "Processing Record 43 of Set 9 | maghama\n",
      "City not found. Skipping... \n",
      "Processing Record 44 of Set 9 | sistranda\n",
      "Processing Record 45 of Set 9 | haag\n",
      "Processing Record 46 of Set 9 | kayes\n",
      "Processing Record 47 of Set 9 | aspindza\n",
      "Processing Record 48 of Set 9 | road town\n",
      "Processing Record 49 of Set 9 | barawe\n",
      "City not found. Skipping... \n",
      "Processing Record 1 of Set 10 | foumban\n",
      "Processing Record 2 of Set 10 | coxim\n",
      "Processing Record 3 of Set 10 | nyuzen\n",
      "Processing Record 4 of Set 10 | iskitim\n",
      "Processing Record 5 of Set 10 | sisimiut\n",
      "Processing Record 6 of Set 10 | sao joao da barra\n",
      "Processing Record 7 of Set 10 | ponnani\n",
      "Processing Record 8 of Set 10 | harper\n",
      "Processing Record 9 of Set 10 | guatire\n",
      "Processing Record 10 of Set 10 | kasongo\n",
      "Processing Record 11 of Set 10 | redmond\n",
      "Processing Record 12 of Set 10 | caceres\n",
      "Processing Record 13 of Set 10 | rota\n",
      "Processing Record 14 of Set 10 | port hedland\n",
      "Processing Record 15 of Set 10 | wuwei\n",
      "Processing Record 16 of Set 10 | chupa\n",
      "Processing Record 17 of Set 10 | derzhavinsk\n",
      "Processing Record 18 of Set 10 | ambatofinandrahana\n",
      "Processing Record 19 of Set 10 | chikoy\n",
      "City not found. Skipping... \n",
      "Processing Record 20 of Set 10 | patuli\n",
      "Processing Record 21 of Set 10 | nebolchi\n",
      "Processing Record 22 of Set 10 | salinas\n",
      "Processing Record 23 of Set 10 | port-gentil\n",
      "Processing Record 24 of Set 10 | sredec\n",
      "City not found. Skipping... \n",
      "Processing Record 25 of Set 10 | brewster\n",
      "Processing Record 26 of Set 10 | trimbak\n",
      "Processing Record 27 of Set 10 | hami\n",
      "Processing Record 28 of Set 10 | baykalsk\n",
      "Processing Record 29 of Set 10 | the valley\n",
      "Processing Record 30 of Set 10 | tres arroyos\n",
      "Processing Record 31 of Set 10 | palabuhanratu\n",
      "City not found. Skipping... \n",
      "Processing Record 32 of Set 10 | sahrak\n",
      "City not found. Skipping... \n",
      "Processing Record 33 of Set 10 | madimba\n",
      "Processing Record 34 of Set 10 | shitanjing\n",
      "Processing Record 35 of Set 10 | kamenka\n",
      "Processing Record 36 of Set 10 | anshun\n",
      "Processing Record 37 of Set 10 | tonantins\n",
      "Processing Record 38 of Set 10 | yeppoon\n",
      "Processing Record 39 of Set 10 | honningsvag\n",
      "Processing Record 40 of Set 10 | victoria\n",
      "Processing Record 41 of Set 10 | miastko\n",
      "Processing Record 42 of Set 10 | brufut\n",
      "Processing Record 43 of Set 10 | coruripe\n",
      "Processing Record 44 of Set 10 | saint-louis\n",
      "Processing Record 45 of Set 10 | hofn\n",
      "Processing Record 46 of Set 10 | dwarka\n",
      "Processing Record 47 of Set 10 | louisbourg\n",
      "City not found. Skipping... \n",
      "Processing Record 48 of Set 10 | broome\n",
      "Processing Record 49 of Set 10 | nakusp\n",
      "Processing Record 1 of Set 11 | bara\n",
      "Processing Record 2 of Set 11 | kaeo\n",
      "Processing Record 3 of Set 11 | korhogo\n",
      "Processing Record 4 of Set 11 | muroto\n",
      "Processing Record 5 of Set 11 | solovetskiy\n",
      "City not found. Skipping... \n",
      "Processing Record 6 of Set 11 | boa vista\n",
      "Processing Record 7 of Set 11 | sitka\n",
      "Processing Record 8 of Set 11 | kollo\n",
      "Processing Record 9 of Set 11 | honiara\n",
      "Processing Record 10 of Set 11 | channel-port aux basques\n",
      "Processing Record 11 of Set 11 | thinadhoo\n",
      "Processing Record 12 of Set 11 | porto velho\n",
      "Processing Record 13 of Set 11 | oranjemund\n",
      "Processing Record 14 of Set 11 | wanning\n",
      "Processing Record 15 of Set 11 | kuminskiy\n",
      "Processing Record 16 of Set 11 | southend-on-sea\n",
      "Processing Record 17 of Set 11 | burnie\n",
      "Processing Record 18 of Set 11 | yulara\n",
      "Processing Record 19 of Set 11 | harwich\n",
      "Processing Record 20 of Set 11 | cukai\n",
      "Processing Record 21 of Set 11 | semey\n",
      "Processing Record 22 of Set 11 | alotau\n",
      "City not found. Skipping... \n",
      "Processing Record 23 of Set 11 | banda aceh\n",
      "Processing Record 24 of Set 11 | arteaga\n",
      "Processing Record 25 of Set 11 | paamiut\n",
      "Processing Record 26 of Set 11 | siocon\n",
      "Processing Record 27 of Set 11 | puerto rondon\n",
      "Processing Record 28 of Set 11 | necochea\n",
      "Processing Record 29 of Set 11 | eyrarbakki\n",
      "Processing Record 30 of Set 11 | bogorodskoye\n",
      "Processing Record 31 of Set 11 | jiancheng\n",
      "Processing Record 32 of Set 11 | almaty\n",
      "Processing Record 33 of Set 11 | maragogi\n",
      "Processing Record 34 of Set 11 | gat\n",
      "Processing Record 35 of Set 11 | tekirdag\n",
      "Processing Record 36 of Set 11 | paka\n",
      "Processing Record 37 of Set 11 | ratnagiri\n",
      "Processing Record 38 of Set 11 | varzea da palma\n",
      "Processing Record 39 of Set 11 | skibbereen\n",
      "Processing Record 40 of Set 11 | yerbogachen\n",
      "Processing Record 41 of Set 11 | puerto colombia\n",
      "Processing Record 42 of Set 11 | osoyoos\n",
      "Processing Record 43 of Set 11 | san quintin\n",
      "Processing Record 44 of Set 11 | xiuyan\n",
      "Processing Record 45 of Set 11 | buzmeyin\n",
      "Processing Record 46 of Set 11 | port augusta\n",
      "Processing Record 47 of Set 11 | catuday\n",
      "Processing Record 48 of Set 11 | lata\n",
      "Processing Record 49 of Set 11 | ukiah\n",
      "Processing Record 1 of Set 12 | lima\n",
      "Processing Record 2 of Set 12 | chicama\n",
      "Processing Record 3 of Set 12 | burgeo\n",
      "Processing Record 4 of Set 12 | saint anthony\n",
      "Processing Record 5 of Set 12 | jiazi\n",
      "Processing Record 6 of Set 12 | anloga\n",
      "Processing Record 7 of Set 12 | pandan\n",
      "Processing Record 8 of Set 12 | porosozero\n",
      "Processing Record 9 of Set 12 | abu samrah\n",
      "Processing Record 10 of Set 12 | omboue\n",
      "Processing Record 11 of Set 12 | lingyuan\n",
      "Processing Record 12 of Set 12 | deputatskiy\n",
      "Processing Record 13 of Set 12 | taoudenni\n",
      "Processing Record 14 of Set 12 | olafsvik\n",
      "Processing Record 15 of Set 12 | tamworth\n",
      "Processing Record 16 of Set 12 | naryan-mar\n",
      "Processing Record 17 of Set 12 | fayaoue\n",
      "Processing Record 18 of Set 12 | ampanihy\n",
      "Processing Record 19 of Set 12 | port antonio\n",
      "Processing Record 20 of Set 12 | ashqelon\n",
      "Processing Record 21 of Set 12 | port hardy\n",
      "Processing Record 22 of Set 12 | sile\n",
      "Processing Record 23 of Set 12 | kodinsk\n",
      "Processing Record 24 of Set 12 | zeya\n"
     ]
    },
    {
     "name": "stdout",
     "output_type": "stream",
     "text": [
      "Processing Record 25 of Set 12 | kampene\n",
      "Processing Record 26 of Set 12 | palembang\n",
      "Processing Record 27 of Set 12 | pamekasan\n",
      "Processing Record 28 of Set 12 | dingle\n",
      "Processing Record 29 of Set 12 | sawai madhopur\n",
      "Processing Record 30 of Set 12 | marsa matruh\n",
      "Processing Record 31 of Set 12 | montepuez\n",
      "Processing Record 32 of Set 12 | xining\n",
      "Processing Record 33 of Set 12 | kirovskiy\n",
      "Processing Record 34 of Set 12 | sal rei\n",
      "Processing Record 35 of Set 12 | rapid valley\n",
      "Processing Record 36 of Set 12 | bucerias\n",
      "Processing Record 37 of Set 12 | berdigestyakh\n",
      "Processing Record 38 of Set 12 | sorland\n",
      "Processing Record 39 of Set 12 | beni mazar\n",
      "Processing Record 40 of Set 12 | worcester\n",
      "Processing Record 41 of Set 12 | nikki\n",
      "Processing Record 42 of Set 12 | higueron\n",
      "Processing Record 43 of Set 12 | basco\n",
      "Processing Record 44 of Set 12 | alice springs\n",
      "Processing Record 45 of Set 12 | kumbo\n",
      "Processing Record 46 of Set 12 | pochutla\n",
      "Processing Record 47 of Set 12 | autopan\n",
      "City not found. Skipping... \n",
      "Processing Record 48 of Set 12 | vila velha\n"
     ]
    }
   ],
   "source": [
    "# set up lists to hold reponse info\n",
    "cities_found = []\n",
    "lat = []\n",
    "lon = []\n",
    "max_temp = []\n",
    "humidity = []\n",
    "cloudiness = []\n",
    "wind_speed = []\n",
    "country = []\n",
    "date = []\n",
    "\n",
    "print(\"Beggining Data Retrieval\")\n",
    "print('-----------------------------')\n",
    "# Loop through the list of cities and perform a request for data on each\n",
    "set_number = 1\n",
    "record_number = 1\n",
    "for city in cities:\n",
    "    try:\n",
    "        response = requests.get(query_url + city).json()\n",
    "        print(f'Processing Record {record_number} of Set {set_number} | {city}')\n",
    "        record_number = record_number + 1\n",
    "        if record_number == 50:\n",
    "            set_number = set_number + 1\n",
    "            record_number = 1\n",
    "        \n",
    "        lat.append(response['coord']['lat'])\n",
    "        lon.append(response['coord']['lon'])\n",
    "        max_temp.append(response['main']['temp_max'])\n",
    "        humidity.append(response['main']['humidity'])\n",
    "        cloudiness.append(response['clouds']['all'])\n",
    "        wind_speed.append(response['wind']['speed'])\n",
    "        country.append(response['sys']['country'])\n",
    "        date.append(response['dt'])\n",
    "        \n",
    "        cities_found.append(city)\n",
    "        \n",
    "    except:\n",
    "        print(\"City not found. Skipping... \")\n",
    "    \n",
    "\n",
    "#print(f\"The latitude information received is: {lat}\")\n",
    "#print(f\"The temperature information received is: {temp}\")"
   ]
  },
  {
   "cell_type": "markdown",
   "metadata": {},
   "source": [
    "### Convert Raw Data to DataFrame\n",
    "* Export the city data into a .csv.\n",
    "* Display the DataFrame"
   ]
  },
  {
   "cell_type": "code",
   "execution_count": 130,
   "metadata": {},
   "outputs": [],
   "source": [
    "weather_dict = {\n",
    "    'City': cities_found,\n",
    "    'Lat': lat,\n",
    "    'Lon': lon,\n",
    "    'Max Temp': max_temp,\n",
    "    'Humidity': humidity,\n",
    "    'Cloudiness': cloudiness,\n",
    "    'Wind Speed': wind_speed,\n",
    "    'Country': country,\n",
    "    'Date': date\n",
    "}\n",
    "weather_data = pd.DataFrame(weather_dict)\n",
    "weather_data.to_csv(\"weather_data.csv\", encoding=\"utf-8\", index=False)"
   ]
  },
  {
   "cell_type": "code",
   "execution_count": 131,
   "metadata": {},
   "outputs": [
    {
     "data": {
      "text/html": [
       "<div>\n",
       "<style scoped>\n",
       "    .dataframe tbody tr th:only-of-type {\n",
       "        vertical-align: middle;\n",
       "    }\n",
       "\n",
       "    .dataframe tbody tr th {\n",
       "        vertical-align: top;\n",
       "    }\n",
       "\n",
       "    .dataframe thead th {\n",
       "        text-align: right;\n",
       "    }\n",
       "</style>\n",
       "<table border=\"1\" class=\"dataframe\">\n",
       "  <thead>\n",
       "    <tr style=\"text-align: right;\">\n",
       "      <th></th>\n",
       "      <th>City</th>\n",
       "      <th>Lat</th>\n",
       "      <th>Lon</th>\n",
       "      <th>Max Temp</th>\n",
       "      <th>Humidity</th>\n",
       "      <th>Cloudiness</th>\n",
       "      <th>Wind Speed</th>\n",
       "      <th>Country</th>\n",
       "      <th>Date</th>\n",
       "    </tr>\n",
       "  </thead>\n",
       "  <tbody>\n",
       "    <tr>\n",
       "      <th>0</th>\n",
       "      <td>new norfolk</td>\n",
       "      <td>-42.7826</td>\n",
       "      <td>147.0587</td>\n",
       "      <td>63.91</td>\n",
       "      <td>82</td>\n",
       "      <td>3</td>\n",
       "      <td>3.69</td>\n",
       "      <td>AU</td>\n",
       "      <td>1651187086</td>\n",
       "    </tr>\n",
       "    <tr>\n",
       "      <th>1</th>\n",
       "      <td>sao filipe</td>\n",
       "      <td>14.8961</td>\n",
       "      <td>-24.4956</td>\n",
       "      <td>71.64</td>\n",
       "      <td>71</td>\n",
       "      <td>3</td>\n",
       "      <td>6.87</td>\n",
       "      <td>CV</td>\n",
       "      <td>1651187041</td>\n",
       "    </tr>\n",
       "    <tr>\n",
       "      <th>2</th>\n",
       "      <td>hobart</td>\n",
       "      <td>-42.8794</td>\n",
       "      <td>147.3294</td>\n",
       "      <td>64.27</td>\n",
       "      <td>90</td>\n",
       "      <td>20</td>\n",
       "      <td>5.75</td>\n",
       "      <td>AU</td>\n",
       "      <td>1651187296</td>\n",
       "    </tr>\n",
       "    <tr>\n",
       "      <th>3</th>\n",
       "      <td>turukhansk</td>\n",
       "      <td>65.8167</td>\n",
       "      <td>87.9833</td>\n",
       "      <td>33.57</td>\n",
       "      <td>98</td>\n",
       "      <td>100</td>\n",
       "      <td>7.23</td>\n",
       "      <td>RU</td>\n",
       "      <td>1651187060</td>\n",
       "    </tr>\n",
       "    <tr>\n",
       "      <th>4</th>\n",
       "      <td>mataura</td>\n",
       "      <td>-46.1927</td>\n",
       "      <td>168.8643</td>\n",
       "      <td>56.48</td>\n",
       "      <td>79</td>\n",
       "      <td>13</td>\n",
       "      <td>1.07</td>\n",
       "      <td>NZ</td>\n",
       "      <td>1651187297</td>\n",
       "    </tr>\n",
       "    <tr>\n",
       "      <th>...</th>\n",
       "      <td>...</td>\n",
       "      <td>...</td>\n",
       "      <td>...</td>\n",
       "      <td>...</td>\n",
       "      <td>...</td>\n",
       "      <td>...</td>\n",
       "      <td>...</td>\n",
       "      <td>...</td>\n",
       "      <td>...</td>\n",
       "    </tr>\n",
       "    <tr>\n",
       "      <th>537</th>\n",
       "      <td>basco</td>\n",
       "      <td>20.4487</td>\n",
       "      <td>121.9702</td>\n",
       "      <td>82.69</td>\n",
       "      <td>85</td>\n",
       "      <td>4</td>\n",
       "      <td>19.51</td>\n",
       "      <td>PH</td>\n",
       "      <td>1651187605</td>\n",
       "    </tr>\n",
       "    <tr>\n",
       "      <th>538</th>\n",
       "      <td>alice springs</td>\n",
       "      <td>-23.7000</td>\n",
       "      <td>133.8833</td>\n",
       "      <td>76.55</td>\n",
       "      <td>33</td>\n",
       "      <td>25</td>\n",
       "      <td>0.00</td>\n",
       "      <td>AU</td>\n",
       "      <td>1651187461</td>\n",
       "    </tr>\n",
       "    <tr>\n",
       "      <th>539</th>\n",
       "      <td>kumbo</td>\n",
       "      <td>6.2000</td>\n",
       "      <td>10.6667</td>\n",
       "      <td>60.60</td>\n",
       "      <td>94</td>\n",
       "      <td>73</td>\n",
       "      <td>1.36</td>\n",
       "      <td>CM</td>\n",
       "      <td>1651187606</td>\n",
       "    </tr>\n",
       "    <tr>\n",
       "      <th>540</th>\n",
       "      <td>pochutla</td>\n",
       "      <td>15.7432</td>\n",
       "      <td>-96.4661</td>\n",
       "      <td>87.82</td>\n",
       "      <td>54</td>\n",
       "      <td>60</td>\n",
       "      <td>7.05</td>\n",
       "      <td>MX</td>\n",
       "      <td>1651187607</td>\n",
       "    </tr>\n",
       "    <tr>\n",
       "      <th>541</th>\n",
       "      <td>vila velha</td>\n",
       "      <td>-20.3297</td>\n",
       "      <td>-40.2925</td>\n",
       "      <td>78.75</td>\n",
       "      <td>89</td>\n",
       "      <td>0</td>\n",
       "      <td>4.61</td>\n",
       "      <td>BR</td>\n",
       "      <td>1651187312</td>\n",
       "    </tr>\n",
       "  </tbody>\n",
       "</table>\n",
       "<p>542 rows × 9 columns</p>\n",
       "</div>"
      ],
      "text/plain": [
       "              City      Lat       Lon  Max Temp  Humidity  Cloudiness  \\\n",
       "0      new norfolk -42.7826  147.0587     63.91        82           3   \n",
       "1       sao filipe  14.8961  -24.4956     71.64        71           3   \n",
       "2           hobart -42.8794  147.3294     64.27        90          20   \n",
       "3       turukhansk  65.8167   87.9833     33.57        98         100   \n",
       "4          mataura -46.1927  168.8643     56.48        79          13   \n",
       "..             ...      ...       ...       ...       ...         ...   \n",
       "537          basco  20.4487  121.9702     82.69        85           4   \n",
       "538  alice springs -23.7000  133.8833     76.55        33          25   \n",
       "539          kumbo   6.2000   10.6667     60.60        94          73   \n",
       "540       pochutla  15.7432  -96.4661     87.82        54          60   \n",
       "541     vila velha -20.3297  -40.2925     78.75        89           0   \n",
       "\n",
       "     Wind Speed Country        Date  \n",
       "0          3.69      AU  1651187086  \n",
       "1          6.87      CV  1651187041  \n",
       "2          5.75      AU  1651187296  \n",
       "3          7.23      RU  1651187060  \n",
       "4          1.07      NZ  1651187297  \n",
       "..          ...     ...         ...  \n",
       "537       19.51      PH  1651187605  \n",
       "538        0.00      AU  1651187461  \n",
       "539        1.36      CM  1651187606  \n",
       "540        7.05      MX  1651187607  \n",
       "541        4.61      BR  1651187312  \n",
       "\n",
       "[542 rows x 9 columns]"
      ]
     },
     "execution_count": 131,
     "metadata": {},
     "output_type": "execute_result"
    }
   ],
   "source": [
    "weather_data"
   ]
  },
  {
   "cell_type": "markdown",
   "metadata": {},
   "source": [
    "## Inspect the data and remove the cities where the humidity > 100%.\n",
    "----\n",
    "Skip this step if there are no cities that have humidity > 100%. "
   ]
  },
  {
   "cell_type": "code",
   "execution_count": 132,
   "metadata": {},
   "outputs": [
    {
     "data": {
      "text/plain": [
       "542"
      ]
     },
     "execution_count": 132,
     "metadata": {},
     "output_type": "execute_result"
    }
   ],
   "source": [
    "len(weather_data)\n"
   ]
  },
  {
   "cell_type": "code",
   "execution_count": 133,
   "metadata": {},
   "outputs": [
    {
     "data": {
      "text/plain": [
       "542"
      ]
     },
     "execution_count": 133,
     "metadata": {},
     "output_type": "execute_result"
    }
   ],
   "source": [
    "weather_data_clean = weather_data.loc[weather_data['Humidity'] > 100]\n",
    "clean_city_data = weather_data\n",
    "#weather_data_clean\n",
    "if len(weather_data_clean) > 0:\n",
    "    #  Get the indices of cities that have humidity over 100%.\n",
    "    indices = []\n",
    "    indices = weather_data_clean.index\n",
    "    # Make a new DataFrame equal to the city data to drop all humidity outliers by index.\n",
    "    # Passing \"inplace=False\" will make a copy of the city_data DataFrame, which we call \"clean_city_data\".\n",
    "    clean_city_data = weather_data.drop(indices, inplace = False)\n",
    "    #print(clean_city_data)\n",
    "len(clean_city_data)"
   ]
  },
  {
   "cell_type": "markdown",
   "metadata": {},
   "source": [
    "## Plotting the Data\n",
    "* Use proper labeling of the plots using plot titles (including date of analysis) and axes labels.\n",
    "* Save the plotted figures as .pngs."
   ]
  },
  {
   "cell_type": "code",
   "execution_count": 134,
   "metadata": {},
   "outputs": [],
   "source": [
    "from datetime import datetime\n",
    "time = datetime.now()  \n",
    "date = time.strftime(\"%m/%d/%y\")"
   ]
  },
  {
   "cell_type": "markdown",
   "metadata": {},
   "source": [
    "## Latitude vs. Temperature Plot"
   ]
  },
  {
   "cell_type": "code",
   "execution_count": 135,
   "metadata": {
    "scrolled": true
   },
   "outputs": [
    {
     "data": {
      "image/png": "[encoded data removed]",
      "text/plain": [
       "<Figure size 432x288 with 1 Axes>"
      ]
     },
     "metadata": {
      "needs_background": "light"
     },
     "output_type": "display_data"
    }
   ],
   "source": [
    "x_values = clean_city_data['Lat']\n",
    "y_values = clean_city_data['Max Temp']\n",
    "plt.scatter(x_values,y_values)\n",
    "plt.title('City Latitude vs Max Temperature (' + date + ')')\n",
    "plt.xlabel('Latitude')\n",
    "plt.ylabel('Max Temperature(F)')\n",
    "plt.show()"
   ]
  },
  {
   "cell_type": "markdown",
   "metadata": {},
   "source": [
    "## Latitude vs. Humidity Plot"
   ]
  },
  {
   "cell_type": "code",
   "execution_count": 136,
   "metadata": {},
   "outputs": [
    {
     "data": {
      "image/png": "[encoded data removed]",
      "text/plain": [
       "<Figure size 432x288 with 1 Axes>"
      ]
     },
     "metadata": {
      "needs_background": "light"
     },
     "output_type": "display_data"
    }
   ],
   "source": [
    "x_values = clean_city_data['Lat']\n",
    "y_values = clean_city_data['Humidity']\n",
    "plt.scatter(x_values,y_values)\n",
    "plt.title('City Latitude vs Humidity (' + date + ')')\n",
    "plt.xlabel('Latitude')\n",
    "plt.ylabel('MHumidity')\n",
    "plt.show()"
   ]
  },
  {
   "cell_type": "markdown",
   "metadata": {},
   "source": [
    "## Latitude vs. Cloudiness Plot"
   ]
  },
  {
   "cell_type": "code",
   "execution_count": 137,
   "metadata": {},
   "outputs": [
    {
     "data": {
      "image/png": "[encoded data removed]",
      "text/plain": [
       "<Figure size 432x288 with 1 Axes>"
      ]
     },
     "metadata": {
      "needs_background": "light"
     },
     "output_type": "display_data"
    }
   ],
   "source": [
    "x_values = clean_city_data['Lat']\n",
    "y_values = clean_city_data['Cloudiness']\n",
    "plt.scatter(x_values,y_values)\n",
    "plt.title('City Latitude vs Cloudiness (' + date + ')')\n",
    "plt.xlabel('Latitude')\n",
    "plt.ylabel('Cloudiness')\n",
    "plt.show()"
   ]
  },
  {
   "cell_type": "markdown",
   "metadata": {},
   "source": [
    "## Latitude vs. Wind Speed Plot"
   ]
  },
  {
   "cell_type": "code",
   "execution_count": 138,
   "metadata": {},
   "outputs": [
    {
     "data": {
      "image/png": "[encoded data removed]",
      "text/plain": [
       "<Figure size 432x288 with 1 Axes>"
      ]
     },
     "metadata": {
      "needs_background": "light"
     },
     "output_type": "display_data"
    }
   ],
   "source": [
    "x_values = clean_city_data['Lat']\n",
    "y_values = clean_city_data['Wind Speed']\n",
    "plt.scatter(x_values,y_values)\n",
    "plt.title('City Latitude vs Wind Speed (' + date + ')')\n",
    "plt.xlabel('Latitude')\n",
    "plt.ylabel('Wind Speed')\n",
    "plt.show()"
   ]
  },
  {
   "cell_type": "markdown",
   "metadata": {},
   "source": [
    "## Linear Regression"
   ]
  },
  {
   "cell_type": "code",
   "execution_count": 139,
   "metadata": {},
   "outputs": [],
   "source": [
    "northern_hemisphere = clean_city_data.loc[clean_city_data['Lat'] >= 0]\n",
    "#northern_hemisphere\n",
    "southern_hemisphere = clean_city_data.loc[clean_city_data['Lat'] < 0]\n",
    "#outhern_hemisphere"
   ]
  },
  {
   "cell_type": "markdown",
   "metadata": {},
   "source": [
    "####  Northern Hemisphere - Max Temp vs. Latitude Linear Regression"
   ]
  },
  {
   "cell_type": "code",
   "execution_count": 140,
   "metadata": {},
   "outputs": [],
   "source": [
    "def make_plot(x_values, y_values, x_pos, y_pos, x_label, y_label):\n",
    "    (slope, intercept, rvalue, pvalue, stderr) = stats.linregress(x_values, y_values)\n",
    "\n",
    "    # Get regression values\n",
    "    regress_values = x_values * slope + intercept\n",
    "    #print(regress_values)\n",
    "    line_eq = \"y = \" + str(round(slope,2)) + \"x +\" + str(round(intercept,2))\n",
    "    plt.scatter(x_values,y_values)\n",
    "    plt.plot(x_values,regress_values,\"r-\")\n",
    "\n",
    "    # Label plot and annotate the line equation\n",
    "    plt.xlabel(x_label)\n",
    "    plt.ylabel(y_label)\n",
    "    plt.annotate(line_eq,(x_pos, y_pos),fontsize=15,color=\"red\")\n",
    "\n",
    "    # Print r value\n",
    "    print(f\"The r-value is: {rvalue**2}\")\n",
    "    plt.show()"
   ]
  },
  {
   "cell_type": "code",
   "execution_count": 141,
   "metadata": {},
   "outputs": [
    {
     "name": "stdout",
     "output_type": "stream",
     "text": [
      "The r-value is: 0.7956601723273313\n"
     ]
    },
    {
     "data": {
      "image/png": "[encoded data removed]",
      "text/plain": [
       "<Figure size 432x288 with 1 Axes>"
      ]
     },
     "metadata": {
      "needs_background": "light"
     },
     "output_type": "display_data"
    }
   ],
   "source": [
    "from scipy import stats\n",
    "x_values = northern_hemisphere['Lat']\n",
    "y_values = northern_hemisphere['Max Temp']\n",
    "make_plot(x_values, y_values, 20, 0, 'Latitude', 'Max Temp')"
   ]
  },
  {
   "cell_type": "markdown",
   "metadata": {},
   "source": [
    "####  Southern Hemisphere - Max Temp vs. Latitude Linear Regression"
   ]
  },
  {
   "cell_type": "code",
   "execution_count": 142,
   "metadata": {},
   "outputs": [
    {
     "name": "stdout",
     "output_type": "stream",
     "text": [
      "The r-value is: 0.529818769042653\n"
     ]
    },
    {
     "data": {
      "image/png": "[encoded data removed]",
      "text/plain": [
       "<Figure size 432x288 with 1 Axes>"
      ]
     },
     "metadata": {
      "needs_background": "light"
     },
     "output_type": "display_data"
    }
   ],
   "source": [
    "x_values = southern_hemisphere['Lat']\n",
    "y_values = southern_hemisphere['Max Temp']\n",
    "make_plot(x_values, y_values, -50, 90, 'Latitude', 'Max Temp')\n"
   ]
  },
  {
   "cell_type": "markdown",
   "metadata": {},
   "source": [
    "####  Northern Hemisphere - Humidity (%) vs. Latitude Linear Regression"
   ]
  },
  {
   "cell_type": "code",
   "execution_count": 143,
   "metadata": {},
   "outputs": [
    {
     "name": "stdout",
     "output_type": "stream",
     "text": [
      "The r-value is: 0.027047363051538712\n"
     ]
    },
    {
     "data": {
      "image/png": "[encoded data removed]",
      "text/plain": [
       "<Figure size 432x288 with 1 Axes>"
      ]
     },
     "metadata": {
      "needs_background": "light"
     },
     "output_type": "display_data"
    }
   ],
   "source": [
    "x_values = northern_hemisphere['Lat']\n",
    "y_values = northern_hemisphere['Humidity']\n",
    "make_plot(x_values, y_values, 40, 10, 'Latitude', 'Humidity')\n"
   ]
  },
  {
   "cell_type": "markdown",
   "metadata": {},
   "source": [
    "####  Southern Hemisphere - Humidity (%) vs. Latitude Linear Regression"
   ]
  },
  {
   "cell_type": "code",
   "execution_count": 144,
   "metadata": {},
   "outputs": [
    {
     "name": "stdout",
     "output_type": "stream",
     "text": [
      "The r-value is: 0.0686844789590804\n"
     ]
    },
    {
     "data": {
      "image/png": "[encoded data removed]",
      "text/plain": [
       "<Figure size 432x288 with 1 Axes>"
      ]
     },
     "metadata": {
      "needs_background": "light"
     },
     "output_type": "display_data"
    }
   ],
   "source": [
    "x_values = southern_hemisphere['Lat']\n",
    "y_values = southern_hemisphere['Humidity']\n",
    "make_plot(x_values, y_values, -50, 10, 'Latitude', 'Humidity')\n"
   ]
  },
  {
   "cell_type": "markdown",
   "metadata": {},
   "source": [
    "####  Northern Hemisphere - Cloudiness (%) vs. Latitude Linear Regression"
   ]
  },
  {
   "cell_type": "code",
   "execution_count": 145,
   "metadata": {},
   "outputs": [
    {
     "name": "stdout",
     "output_type": "stream",
     "text": [
      "The r-value is: 0.03738212411595385\n"
     ]
    },
    {
     "data": {
      "image/png": "[encoded data removed]",
      "text/plain": [
       "<Figure size 432x288 with 1 Axes>"
      ]
     },
     "metadata": {
      "needs_background": "light"
     },
     "output_type": "display_data"
    }
   ],
   "source": [
    "x_values = northern_hemisphere['Lat']\n",
    "y_values = northern_hemisphere['Cloudiness']\n",
    "make_plot(x_values, y_values, 40, 10, 'Latitude', 'Cloudiness')\n"
   ]
  },
  {
   "cell_type": "markdown",
   "metadata": {},
   "source": [
    "####  Southern Hemisphere - Cloudiness (%) vs. Latitude Linear Regression"
   ]
  },
  {
   "cell_type": "code",
   "execution_count": 146,
   "metadata": {},
   "outputs": [
    {
     "name": "stdout",
     "output_type": "stream",
     "text": [
      "The r-value is: 0.15422397944795435\n"
     ]
    },
    {
     "data": {
      "image/png": "[encoded data removed]",
      "text/plain": [
       "<Figure size 432x288 with 1 Axes>"
      ]
     },
     "metadata": {
      "needs_background": "light"
     },
     "output_type": "display_data"
    }
   ],
   "source": [
    "x_values = southern_hemisphere['Lat']\n",
    "y_values = southern_hemisphere['Cloudiness']\n",
    "make_plot(x_values, y_values, -50, 10, 'Latitude', 'Cloudiness')\n"
   ]
  },
  {
   "cell_type": "markdown",
   "metadata": {},
   "source": [
    "####  Northern Hemisphere - Wind Speed (mph) vs. Latitude Linear Regression"
   ]
  },
  {
   "cell_type": "code",
   "execution_count": 147,
   "metadata": {},
   "outputs": [
    {
     "name": "stdout",
     "output_type": "stream",
     "text": [
      "The r-value is: 0.007020035163988124\n"
     ]
    },
    {
     "data": {
      "image/png": "[encoded data removed]",
      "text/plain": [
       "<Figure size 432x288 with 1 Axes>"
      ]
     },
     "metadata": {
      "needs_background": "light"
     },
     "output_type": "display_data"
    }
   ],
   "source": [
    "x_values = northern_hemisphere['Lat']\n",
    "y_values = northern_hemisphere['Wind Speed']\n",
    "make_plot(x_values, y_values, 3, 30, 'Latitude', 'Wind Speed')\n"
   ]
  },
  {
   "cell_type": "markdown",
   "metadata": {},
   "source": [
    "####  Southern Hemisphere - Wind Speed (mph) vs. Latitude Linear Regression"
   ]
  },
  {
   "cell_type": "code",
   "execution_count": 148,
   "metadata": {},
   "outputs": [
    {
     "name": "stdout",
     "output_type": "stream",
     "text": [
      "The r-value is: 0.023081332491352264\n"
     ]
    },
    {
     "data": {
      "image/png": "[encoded data removed]",
      "text/plain": [
       "<Figure size 432x288 with 1 Axes>"
      ]
     },
     "metadata": {
      "needs_background": "light"
     },
     "output_type": "display_data"
    }
   ],
   "source": [
    "x_values = southern_hemisphere['Lat']\n",
    "y_values = southern_hemisphere['Wind Speed']\n",
    "make_plot(x_values, y_values, -25, 28, 'Latitude', 'Wind Speed')\n"
   ]
  },
  {
   "cell_type": "code",
   "execution_count": null,
   "metadata": {},
   "outputs": [],
   "source": []
  }
 ],
 "metadata": {
  "anaconda-cloud": {},
  "kernel_info": {
   "name": "python3"
  },
  "kernelspec": {
   "display_name": "Python 3 (ipykernel)",
   "language": "python",
   "name": "python3"
  },
  "language_info": {
   "codemirror_mode": {
    "name": "ipython",
    "version": 3
   },
   "file_extension": ".py",
   "mimetype": "text/x-python",
   "name": "python",
   "nbconvert_exporter": "python",
   "pygments_lexer": "ipython3",
   "version": "3.9.7"
  },
  "latex_envs": {
   "LaTeX_envs_menu_present": true,
   "autoclose": false,
   "autocomplete": true,
   "bibliofile": "biblio.bib",
   "cite_by": "apalike",
   "current_citInitial": 1,
   "eqLabelWithNumbers": true,
   "eqNumInitial": 1,
   "hotkeys": {
    "equation": "Ctrl-E",
    "itemize": "Ctrl-I"
   },
   "labels_anchors": false,
   "latex_user_defs": false,
   "report_style_numbering": false,
   "user_envs_cfg": false
  },
  "nteract": {
   "version": "0.12.3"
  }
 },
 "nbformat": 4,
 "nbformat_minor": 2
}
